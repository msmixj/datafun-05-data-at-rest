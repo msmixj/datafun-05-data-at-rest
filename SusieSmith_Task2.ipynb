{
 "cells": [
  {
   "cell_type": "markdown",
   "id": "b4c28fbf-7f97-486b-9833-73d49e87fa19",
   "metadata": {},
   "source": [
    "SusieSmith_Task2.ipynb"
   ]
  },
  {
   "cell_type": "markdown",
   "id": "46c1b06d-d683-4eea-bc7e-24b9a14a300a",
   "metadata": {},
   "source": [
    "Susie Smith"
   ]
  },
  {
   "cell_type": "markdown",
   "id": "fdd344b5-def5-40b2-9027-8a810b18f9c2",
   "metadata": {},
   "source": [
    "February 14, 2023"
   ]
  },
  {
   "cell_type": "markdown",
   "id": "13b71b38-1270-4348-bbad-47e9b6cd66ff",
   "metadata": {},
   "source": [
    "Task 2, Read and work through Chapter 17 - Big Data - understand the examples."
   ]
  },
  {
   "cell_type": "markdown",
   "id": "3b96cef5-0002-4588-b3c6-9461ba370d87",
   "metadata": {},
   "source": [
    "17.1 and 17.2 were read through. The examples to be worked through are in SusieSmith_Task4.ipynb."
   ]
  }
 ],
 "metadata": {
  "kernelspec": {
   "display_name": "Python 3 (ipykernel)",
   "language": "python",
   "name": "python3"
  },
  "language_info": {
   "codemirror_mode": {
    "name": "ipython",
    "version": 3
   },
   "file_extension": ".py",
   "mimetype": "text/x-python",
   "name": "python",
   "nbconvert_exporter": "python",
   "pygments_lexer": "ipython3",
   "version": "3.10.8"
  }
 },
 "nbformat": 4,
 "nbformat_minor": 5
}
